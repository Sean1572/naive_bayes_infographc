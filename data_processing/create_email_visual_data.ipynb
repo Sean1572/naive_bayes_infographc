{
 "cells": [
  {
   "cell_type": "code",
   "execution_count": 53,
   "metadata": {},
   "outputs": [],
   "source": [
    "import pandas as pd\n",
    "import numpy as np"
   ]
  },
  {
   "cell_type": "code",
   "execution_count": 65,
   "metadata": {},
   "outputs": [],
   "source": []
  },
  {
   "cell_type": "code",
   "execution_count": 97,
   "metadata": {},
   "outputs": [
    {
     "name": "stdout",
     "output_type": "stream",
     "text": [
      "     frame         x         y      size   label\n",
      "0        5  0.432139  0.500137  0.749183  orange\n",
      "1        5  0.133997  0.122741  1.067852  orange\n",
      "2        5  0.946411  0.270448  0.960310    blue\n",
      "3        5  0.328401  0.238600  0.682517  orange\n",
      "4        5  0.354901  0.549009  1.006041    blue\n",
      "..     ...       ...       ...       ...     ...\n",
      "245      5  0.104833  0.898924  0.799119  orange\n",
      "246      5  0.434607  0.327036  0.575736    blue\n",
      "247      5  0.569611  0.791362  0.516795    blue\n",
      "248      5  0.194345  0.163897  1.013472    blue\n",
      "249      5  0.670108  0.378344  1.031234    blue\n",
      "\n",
      "[250 rows x 5 columns]\n",
      "4\n",
      "5\n"
     ]
    }
   ],
   "source": [
    "frist_frame_n = 250\n",
    "dfs = []\n",
    "X = np.random.uniform(0, 1, frist_frame_n)\n",
    "Y = np.random.uniform(0, 1, frist_frame_n)\n",
    "size = np.random.uniform(0.5, 1.25, frist_frame_n)\n",
    "\n",
    "for i in range(1, 5):\n",
    "    columns=[\"frame\", \"x\", \"y\", \"size\", \"label\"]\n",
    "    df = pd.DataFrame(np.zeros((50 * i, len(columns))), columns=columns)\n",
    "    df[\"x\"] = X[:50 * i]\n",
    "    df[\"y\"] = Y[:50 * i]\n",
    "    df[\"frame\"] = i - 1\n",
    "    df[\"size\"] = size[:50 * i]\n",
    "    df[\"label\"] = \"blue\"\n",
    "    dfs.append(df)\n",
    "    \n",
    "columns=[\"frame\", \"x\", \"y\", \"size\", \"label\"]\n",
    "frist_frame_n = 250\n",
    "df = pd.DataFrame(np.zeros((frist_frame_n, len(columns))), columns=columns)\n",
    "df[\"x\"] = X\n",
    "df[\"y\"] = Y\n",
    "df[\"frame\"] = 5\n",
    "df[\"size\"] = size\n",
    "df[\"label\"] = np.random.binomial(1, 0.4, frist_frame_n)\n",
    "df[\"label\"] = df[\"label\"].replace({\n",
    "    0: \"blue\",\n",
    "    1: \"orange\"\n",
    "})\n",
    "print(df)\n",
    "print(len(dfs))\n",
    "dfs.append(df)\n",
    "print(len(dfs))\n",
    "\n",
    "\n",
    "for i in range(0, 5):\n",
    "    frist_frame_n = 6\n",
    "    columns=[\"frame\", \"x\", \"y\", \"size\", \"label\"]\n",
    "    df1 = pd.DataFrame(np.zeros((frist_frame_n, len(columns))), columns=columns)\n",
    "    df1[\"frame\"] = 6 + i\n",
    "    df1[\"x\"] = 0.25\n",
    "    df1[\"y\"] = np.arange(0.0, 0.6, (0.6 - 0.0)/frist_frame_n)\n",
    "    df1[\"size\"] = 2\n",
    "    df1[\"label\"] = [\"orange\", \"orange\", \"orange\", \"blue\", \"blue\", \"blue\"]\n",
    "    dfs.append(df1)\n",
    "\n",
    "pd.concat(dfs).to_csv(\"intro_vis.csv\")\n",
    "\n"
   ]
  },
  {
   "cell_type": "code",
   "execution_count": 87,
   "metadata": {},
   "outputs": [
    {
     "data": {
      "text/plain": [
       "0    0.0\n",
       "1    0.1\n",
       "2    0.2\n",
       "3    0.3\n",
       "4    0.4\n",
       "5    0.5\n",
       "Name: y, dtype: float64"
      ]
     },
     "execution_count": 87,
     "metadata": {},
     "output_type": "execute_result"
    }
   ],
   "source": [
    "df1[\"y\"]"
   ]
  },
  {
   "cell_type": "code",
   "execution_count": 56,
   "metadata": {},
   "outputs": [
    {
     "data": {
      "text/html": [
       "<div>\n",
       "<style scoped>\n",
       "    .dataframe tbody tr th:only-of-type {\n",
       "        vertical-align: middle;\n",
       "    }\n",
       "\n",
       "    .dataframe tbody tr th {\n",
       "        vertical-align: top;\n",
       "    }\n",
       "\n",
       "    .dataframe thead th {\n",
       "        text-align: right;\n",
       "    }\n",
       "</style>\n",
       "<table border=\"1\" class=\"dataframe\">\n",
       "  <thead>\n",
       "    <tr style=\"text-align: right;\">\n",
       "      <th></th>\n",
       "      <th>frame</th>\n",
       "      <th>x</th>\n",
       "      <th>y</th>\n",
       "      <th>size</th>\n",
       "      <th>label</th>\n",
       "    </tr>\n",
       "  </thead>\n",
       "  <tbody>\n",
       "    <tr>\n",
       "      <th>0</th>\n",
       "      <td>0.0</td>\n",
       "      <td>0.0</td>\n",
       "      <td>0.0</td>\n",
       "      <td>0.0</td>\n",
       "      <td>0.0</td>\n",
       "    </tr>\n",
       "    <tr>\n",
       "      <th>1</th>\n",
       "      <td>0.0</td>\n",
       "      <td>0.0</td>\n",
       "      <td>0.0</td>\n",
       "      <td>0.0</td>\n",
       "      <td>0.0</td>\n",
       "    </tr>\n",
       "    <tr>\n",
       "      <th>2</th>\n",
       "      <td>0.0</td>\n",
       "      <td>0.0</td>\n",
       "      <td>0.0</td>\n",
       "      <td>0.0</td>\n",
       "      <td>0.0</td>\n",
       "    </tr>\n",
       "    <tr>\n",
       "      <th>3</th>\n",
       "      <td>0.0</td>\n",
       "      <td>0.0</td>\n",
       "      <td>0.0</td>\n",
       "      <td>0.0</td>\n",
       "      <td>0.0</td>\n",
       "    </tr>\n",
       "    <tr>\n",
       "      <th>4</th>\n",
       "      <td>0.0</td>\n",
       "      <td>0.0</td>\n",
       "      <td>0.0</td>\n",
       "      <td>0.0</td>\n",
       "      <td>0.0</td>\n",
       "    </tr>\n",
       "    <tr>\n",
       "      <th>...</th>\n",
       "      <td>...</td>\n",
       "      <td>...</td>\n",
       "      <td>...</td>\n",
       "      <td>...</td>\n",
       "      <td>...</td>\n",
       "    </tr>\n",
       "    <tr>\n",
       "      <th>245</th>\n",
       "      <td>0.0</td>\n",
       "      <td>0.0</td>\n",
       "      <td>0.0</td>\n",
       "      <td>0.0</td>\n",
       "      <td>0.0</td>\n",
       "    </tr>\n",
       "    <tr>\n",
       "      <th>246</th>\n",
       "      <td>0.0</td>\n",
       "      <td>0.0</td>\n",
       "      <td>0.0</td>\n",
       "      <td>0.0</td>\n",
       "      <td>0.0</td>\n",
       "    </tr>\n",
       "    <tr>\n",
       "      <th>247</th>\n",
       "      <td>0.0</td>\n",
       "      <td>0.0</td>\n",
       "      <td>0.0</td>\n",
       "      <td>0.0</td>\n",
       "      <td>0.0</td>\n",
       "    </tr>\n",
       "    <tr>\n",
       "      <th>248</th>\n",
       "      <td>0.0</td>\n",
       "      <td>0.0</td>\n",
       "      <td>0.0</td>\n",
       "      <td>0.0</td>\n",
       "      <td>0.0</td>\n",
       "    </tr>\n",
       "    <tr>\n",
       "      <th>249</th>\n",
       "      <td>0.0</td>\n",
       "      <td>0.0</td>\n",
       "      <td>0.0</td>\n",
       "      <td>0.0</td>\n",
       "      <td>0.0</td>\n",
       "    </tr>\n",
       "  </tbody>\n",
       "</table>\n",
       "<p>250 rows × 5 columns</p>\n",
       "</div>"
      ],
      "text/plain": [
       "     frame    x    y  size  label\n",
       "0      0.0  0.0  0.0   0.0    0.0\n",
       "1      0.0  0.0  0.0   0.0    0.0\n",
       "2      0.0  0.0  0.0   0.0    0.0\n",
       "3      0.0  0.0  0.0   0.0    0.0\n",
       "4      0.0  0.0  0.0   0.0    0.0\n",
       "..     ...  ...  ...   ...    ...\n",
       "245    0.0  0.0  0.0   0.0    0.0\n",
       "246    0.0  0.0  0.0   0.0    0.0\n",
       "247    0.0  0.0  0.0   0.0    0.0\n",
       "248    0.0  0.0  0.0   0.0    0.0\n",
       "249    0.0  0.0  0.0   0.0    0.0\n",
       "\n",
       "[250 rows x 5 columns]"
      ]
     },
     "execution_count": 56,
     "metadata": {},
     "output_type": "execute_result"
    }
   ],
   "source": [
    "df"
   ]
  },
  {
   "cell_type": "code",
   "execution_count": 57,
   "metadata": {},
   "outputs": [
    {
     "data": {
      "text/plain": [
       "<Axes: xlabel='x', ylabel='y'>"
      ]
     },
     "execution_count": 57,
     "metadata": {},
     "output_type": "execute_result"
    },
    {
     "data": {
      "image/png": "[encoded data removed]",
      "text/plain": [
       "<Figure size 640x480 with 1 Axes>"
      ]
     },
     "metadata": {},
     "output_type": "display_data"
    }
   ],
   "source": [
    "df[\"x\"] = np.random.uniform(0, 1, frist_frame_n)\n",
    "df[\"y\"] = np.random.uniform(0, 1, frist_frame_n)\n",
    "df[\"frame\"] = 0\n",
    "df[[\"x\", \"y\"]].plot(kind=\"scatter\", x=\"x\", y=\"y\")"
   ]
  },
  {
   "cell_type": "code",
   "execution_count": 58,
   "metadata": {},
   "outputs": [],
   "source": [
    "df[\"size\"] = np.random.uniform(0.5, 1.25, frist_frame_n)\n"
   ]
  },
  {
   "cell_type": "code",
   "execution_count": 84,
   "metadata": {},
   "outputs": [
    {
     "data": {
      "text/plain": [
       "0        blue\n",
       "1        blue\n",
       "2        blue\n",
       "3      orange\n",
       "4      orange\n",
       "        ...  \n",
       "245    orange\n",
       "246    orange\n",
       "247    orange\n",
       "248    orange\n",
       "249    orange\n",
       "Name: label, Length: 250, dtype: object"
      ]
     },
     "execution_count": 84,
     "metadata": {},
     "output_type": "execute_result"
    }
   ],
   "source": []
  },
  {
   "cell_type": "code",
   "execution_count": 60,
   "metadata": {},
   "outputs": [],
   "source": [
    "frist_frame_n = 5"
   ]
  },
  {
   "cell_type": "code",
   "execution_count": null,
   "metadata": {},
   "outputs": [],
   "source": []
  },
  {
   "cell_type": "code",
   "execution_count": 61,
   "metadata": {},
   "outputs": [],
   "source": []
  },
  {
   "cell_type": "code",
   "execution_count": null,
   "metadata": {},
   "outputs": [],
   "source": []
  },
  {
   "cell_type": "code",
   "execution_count": null,
   "metadata": {},
   "outputs": [],
   "source": []
  },
  {
   "cell_type": "code",
   "execution_count": null,
   "metadata": {},
   "outputs": [],
   "source": []
  },
  {
   "cell_type": "code",
   "execution_count": null,
   "metadata": {},
   "outputs": [],
   "source": []
  },
  {
   "cell_type": "code",
   "execution_count": 62,
   "metadata": {},
   "outputs": [],
   "source": [
    "pd.concat([df, df1]).to_csv(\"intro_vis.csv\")"
   ]
  },
  {
   "cell_type": "code",
   "execution_count": null,
   "metadata": {},
   "outputs": [],
   "source": []
  },
  {
   "cell_type": "code",
   "execution_count": null,
   "metadata": {},
   "outputs": [],
   "source": []
  }
 ],
 "metadata": {
  "kernelspec": {
   "display_name": "asid",
   "language": "python",
   "name": "python3"
  },
  "language_info": {
   "codemirror_mode": {
    "name": "ipython",
    "version": 3
   },
   "file_extension": ".py",
   "mimetype": "text/x-python",
   "name": "python",
   "nbconvert_exporter": "python",
   "pygments_lexer": "ipython3",
   "version": "3.8.18"
  }
 },
 "nbformat": 4,
 "nbformat_minor": 2
}
