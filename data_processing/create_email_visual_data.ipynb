{
 "cells": [
  {
   "cell_type": "code",
   "execution_count": 1,
   "metadata": {},
   "outputs": [],
   "source": [
    "import pandas as pd\n",
    "import numpy as np"
   ]
  },
  {
   "cell_type": "code",
   "execution_count": null,
   "metadata": {},
   "outputs": [],
   "source": []
  },
  {
   "cell_type": "code",
   "execution_count": 9,
   "metadata": {},
   "outputs": [
    {
     "name": "stdout",
     "output_type": "stream",
     "text": [
      "     frame         x         y      size   label\n",
      "0        5  0.139230  0.579108  0.665159    blue\n",
      "1        5  0.642939  0.566328  1.166672  orange\n",
      "2        5  0.680463  0.206738  0.625262  orange\n",
      "3        5  0.816357  0.569577  0.920002    blue\n",
      "4        5  0.621981  0.917705  1.122489  orange\n",
      "..     ...       ...       ...       ...     ...\n",
      "245      5  0.905441  0.485605  0.619746    blue\n",
      "246      5  0.003800  0.676777  0.795977    blue\n",
      "247      5  0.680820  0.667438  0.528115  orange\n",
      "248      5  0.391251  0.080214  0.930992    blue\n",
      "249      5  0.319736  0.723461  1.150339  orange\n",
      "\n",
      "[250 rows x 5 columns]\n",
      "5\n",
      "6\n"
     ]
    },
    {
     "data": {
      "text/plain": [
       "0    0.050000\n",
       "1    0.166667\n",
       "2    0.283333\n",
       "3    0.400000\n",
       "4    0.516667\n",
       "5    0.633333\n",
       "Name: y, dtype: float64"
      ]
     },
     "execution_count": 9,
     "metadata": {},
     "output_type": "execute_result"
    }
   ],
   "source": [
    "frist_frame_n = 250\n",
    "dfs = []\n",
    "X = np.random.uniform(0, 1, frist_frame_n)\n",
    "Y = np.random.uniform(0, 1, frist_frame_n)\n",
    "size = np.random.uniform(0.5, 1.25, frist_frame_n)\n",
    "\n",
    "for i in range(1, 6):\n",
    "    columns=[\"frame\", \"x\", \"y\", \"size\", \"label\"]\n",
    "    df = pd.DataFrame(np.zeros((50 * i, len(columns))), columns=columns)\n",
    "    df[\"x\"] = X[:50 * i]\n",
    "    df[\"y\"] = Y[:50 * i]\n",
    "    df[\"frame\"] = i\n",
    "    df[\"size\"] = size[:50 * i]\n",
    "    df[\"label\"] = \"blue\"\n",
    "    dfs.append(df)\n",
    "    \n",
    "columns=[\"frame\", \"x\", \"y\", \"size\", \"label\"]\n",
    "frist_frame_n = 250\n",
    "df = pd.DataFrame(np.zeros((frist_frame_n, len(columns))), columns=columns)\n",
    "df[\"x\"] = X\n",
    "df[\"y\"] = Y\n",
    "df[\"frame\"] = 5\n",
    "df[\"size\"] = size\n",
    "df[\"label\"] = np.random.binomial(1, 0.4, frist_frame_n)\n",
    "df[\"label\"] = df[\"label\"].replace({\n",
    "    0: \"blue\",\n",
    "    1: \"orange\"\n",
    "})\n",
    "print(df)\n",
    "print(len(dfs))\n",
    "dfs.append(df)\n",
    "print(len(dfs))\n",
    "\n",
    "\n",
    "for i in range(0, 5):\n",
    "    frist_frame_n = 6\n",
    "    columns=[\"frame\", \"x\", \"y\", \"size\", \"label\"]\n",
    "    df1 = pd.DataFrame(np.zeros((frist_frame_n, len(columns))), columns=columns)\n",
    "    df1[\"frame\"] = 6 + i\n",
    "    df1[\"x\"] = 0.25\n",
    "    df1[\"y\"] = np.arange(0.05, 0.75, (0.75 - 0.05)/frist_frame_n)\n",
    "    df1[\"size\"] = 2\n",
    "    df1[\"label\"] = [\"orange\", \"orange\", \"orange\", \"blue\", \"blue\", \"blue\"]\n",
    "    dfs.append(df1)\n",
    "\n",
    "pd.concat(dfs).to_csv(\"intro_vis.csv\")\n",
    "\n",
    "df1[\"y\"] "
   ]
  },
  {
   "cell_type": "code",
   "execution_count": 7,
   "metadata": {},
   "outputs": [
    {
     "data": {
      "text/plain": [
       "0    0.100000\n",
       "1    0.216667\n",
       "2    0.333333\n",
       "3    0.450000\n",
       "4    0.566667\n",
       "5    0.683333\n",
       "Name: y, dtype: float64"
      ]
     },
     "execution_count": 7,
     "metadata": {},
     "output_type": "execute_result"
    }
   ],
   "source": [
    "df1[\"y\"]"
   ]
  },
  {
   "cell_type": "code",
   "execution_count": 4,
   "metadata": {},
   "outputs": [
    {
     "data": {
      "text/html": [
       "<div>\n",
       "<style scoped>\n",
       "    .dataframe tbody tr th:only-of-type {\n",
       "        vertical-align: middle;\n",
       "    }\n",
       "\n",
       "    .dataframe tbody tr th {\n",
       "        vertical-align: top;\n",
       "    }\n",
       "\n",
       "    .dataframe thead th {\n",
       "        text-align: right;\n",
       "    }\n",
       "</style>\n",
       "<table border=\"1\" class=\"dataframe\">\n",
       "  <thead>\n",
       "    <tr style=\"text-align: right;\">\n",
       "      <th></th>\n",
       "      <th>frame</th>\n",
       "      <th>x</th>\n",
       "      <th>y</th>\n",
       "      <th>size</th>\n",
       "      <th>label</th>\n",
       "    </tr>\n",
       "  </thead>\n",
       "  <tbody>\n",
       "    <tr>\n",
       "      <th>0</th>\n",
       "      <td>5</td>\n",
       "      <td>0.598049</td>\n",
       "      <td>0.110412</td>\n",
       "      <td>0.829363</td>\n",
       "      <td>blue</td>\n",
       "    </tr>\n",
       "    <tr>\n",
       "      <th>1</th>\n",
       "      <td>5</td>\n",
       "      <td>0.880966</td>\n",
       "      <td>0.506883</td>\n",
       "      <td>0.582368</td>\n",
       "      <td>orange</td>\n",
       "    </tr>\n",
       "    <tr>\n",
       "      <th>2</th>\n",
       "      <td>5</td>\n",
       "      <td>0.034491</td>\n",
       "      <td>0.590414</td>\n",
       "      <td>1.049093</td>\n",
       "      <td>orange</td>\n",
       "    </tr>\n",
       "    <tr>\n",
       "      <th>3</th>\n",
       "      <td>5</td>\n",
       "      <td>0.223032</td>\n",
       "      <td>0.270194</td>\n",
       "      <td>0.823319</td>\n",
       "      <td>blue</td>\n",
       "    </tr>\n",
       "    <tr>\n",
       "      <th>4</th>\n",
       "      <td>5</td>\n",
       "      <td>0.203779</td>\n",
       "      <td>0.685353</td>\n",
       "      <td>1.246272</td>\n",
       "      <td>orange</td>\n",
       "    </tr>\n",
       "    <tr>\n",
       "      <th>...</th>\n",
       "      <td>...</td>\n",
       "      <td>...</td>\n",
       "      <td>...</td>\n",
       "      <td>...</td>\n",
       "      <td>...</td>\n",
       "    </tr>\n",
       "    <tr>\n",
       "      <th>245</th>\n",
       "      <td>5</td>\n",
       "      <td>0.196062</td>\n",
       "      <td>0.659816</td>\n",
       "      <td>0.648272</td>\n",
       "      <td>blue</td>\n",
       "    </tr>\n",
       "    <tr>\n",
       "      <th>246</th>\n",
       "      <td>5</td>\n",
       "      <td>0.637921</td>\n",
       "      <td>0.678100</td>\n",
       "      <td>1.063714</td>\n",
       "      <td>orange</td>\n",
       "    </tr>\n",
       "    <tr>\n",
       "      <th>247</th>\n",
       "      <td>5</td>\n",
       "      <td>0.246692</td>\n",
       "      <td>0.772035</td>\n",
       "      <td>1.076100</td>\n",
       "      <td>blue</td>\n",
       "    </tr>\n",
       "    <tr>\n",
       "      <th>248</th>\n",
       "      <td>5</td>\n",
       "      <td>0.691114</td>\n",
       "      <td>0.565229</td>\n",
       "      <td>0.983851</td>\n",
       "      <td>blue</td>\n",
       "    </tr>\n",
       "    <tr>\n",
       "      <th>249</th>\n",
       "      <td>5</td>\n",
       "      <td>0.011070</td>\n",
       "      <td>0.504862</td>\n",
       "      <td>1.019058</td>\n",
       "      <td>orange</td>\n",
       "    </tr>\n",
       "  </tbody>\n",
       "</table>\n",
       "<p>250 rows × 5 columns</p>\n",
       "</div>"
      ],
      "text/plain": [
       "     frame         x         y      size   label\n",
       "0        5  0.598049  0.110412  0.829363    blue\n",
       "1        5  0.880966  0.506883  0.582368  orange\n",
       "2        5  0.034491  0.590414  1.049093  orange\n",
       "3        5  0.223032  0.270194  0.823319    blue\n",
       "4        5  0.203779  0.685353  1.246272  orange\n",
       "..     ...       ...       ...       ...     ...\n",
       "245      5  0.196062  0.659816  0.648272    blue\n",
       "246      5  0.637921  0.678100  1.063714  orange\n",
       "247      5  0.246692  0.772035  1.076100    blue\n",
       "248      5  0.691114  0.565229  0.983851    blue\n",
       "249      5  0.011070  0.504862  1.019058  orange\n",
       "\n",
       "[250 rows x 5 columns]"
      ]
     },
     "execution_count": 4,
     "metadata": {},
     "output_type": "execute_result"
    }
   ],
   "source": [
    "df"
   ]
  },
  {
   "cell_type": "code",
   "execution_count": 5,
   "metadata": {},
   "outputs": [
    {
     "ename": "ValueError",
     "evalue": "Length of values (6) does not match length of index (250)",
     "output_type": "error",
     "traceback": [
      "\u001b[1;31m---------------------------------------------------------------------------\u001b[0m",
      "\u001b[1;31mValueError\u001b[0m                                Traceback (most recent call last)",
      "Cell \u001b[1;32mIn[5], line 1\u001b[0m\n\u001b[1;32m----> 1\u001b[0m \u001b[43mdf\u001b[49m\u001b[43m[\u001b[49m\u001b[38;5;124;43m\"\u001b[39;49m\u001b[38;5;124;43mx\u001b[39;49m\u001b[38;5;124;43m\"\u001b[39;49m\u001b[43m]\u001b[49m \u001b[38;5;241m=\u001b[39m np\u001b[38;5;241m.\u001b[39mrandom\u001b[38;5;241m.\u001b[39muniform(\u001b[38;5;241m0\u001b[39m, \u001b[38;5;241m1\u001b[39m, frist_frame_n)\n\u001b[0;32m      2\u001b[0m df[\u001b[38;5;124m\"\u001b[39m\u001b[38;5;124my\u001b[39m\u001b[38;5;124m\"\u001b[39m] \u001b[38;5;241m=\u001b[39m np\u001b[38;5;241m.\u001b[39mrandom\u001b[38;5;241m.\u001b[39muniform(\u001b[38;5;241m0\u001b[39m, \u001b[38;5;241m1\u001b[39m, frist_frame_n)\n\u001b[0;32m      3\u001b[0m df[\u001b[38;5;124m\"\u001b[39m\u001b[38;5;124mframe\u001b[39m\u001b[38;5;124m\"\u001b[39m] \u001b[38;5;241m=\u001b[39m \u001b[38;5;241m0\u001b[39m\n",
      "File \u001b[1;32mc:\\Users\\seanh\\miniconda3\\envs\\asid\\lib\\site-packages\\pandas\\core\\frame.py:3950\u001b[0m, in \u001b[0;36mDataFrame.__setitem__\u001b[1;34m(self, key, value)\u001b[0m\n\u001b[0;32m   3947\u001b[0m     \u001b[38;5;28mself\u001b[39m\u001b[38;5;241m.\u001b[39m_setitem_array([key], value)\n\u001b[0;32m   3948\u001b[0m \u001b[38;5;28;01melse\u001b[39;00m:\n\u001b[0;32m   3949\u001b[0m     \u001b[38;5;66;03m# set column\u001b[39;00m\n\u001b[1;32m-> 3950\u001b[0m     \u001b[38;5;28;43mself\u001b[39;49m\u001b[38;5;241;43m.\u001b[39;49m\u001b[43m_set_item\u001b[49m\u001b[43m(\u001b[49m\u001b[43mkey\u001b[49m\u001b[43m,\u001b[49m\u001b[43m \u001b[49m\u001b[43mvalue\u001b[49m\u001b[43m)\u001b[49m\n",
      "File \u001b[1;32mc:\\Users\\seanh\\miniconda3\\envs\\asid\\lib\\site-packages\\pandas\\core\\frame.py:4143\u001b[0m, in \u001b[0;36mDataFrame._set_item\u001b[1;34m(self, key, value)\u001b[0m\n\u001b[0;32m   4133\u001b[0m \u001b[38;5;28;01mdef\u001b[39;00m \u001b[38;5;21m_set_item\u001b[39m(\u001b[38;5;28mself\u001b[39m, key, value) \u001b[38;5;241m-\u001b[39m\u001b[38;5;241m>\u001b[39m \u001b[38;5;28;01mNone\u001b[39;00m:\n\u001b[0;32m   4134\u001b[0m \u001b[38;5;250m    \u001b[39m\u001b[38;5;124;03m\"\"\"\u001b[39;00m\n\u001b[0;32m   4135\u001b[0m \u001b[38;5;124;03m    Add series to DataFrame in specified column.\u001b[39;00m\n\u001b[0;32m   4136\u001b[0m \n\u001b[1;32m   (...)\u001b[0m\n\u001b[0;32m   4141\u001b[0m \u001b[38;5;124;03m    ensure homogeneity.\u001b[39;00m\n\u001b[0;32m   4142\u001b[0m \u001b[38;5;124;03m    \"\"\"\u001b[39;00m\n\u001b[1;32m-> 4143\u001b[0m     value \u001b[38;5;241m=\u001b[39m \u001b[38;5;28;43mself\u001b[39;49m\u001b[38;5;241;43m.\u001b[39;49m\u001b[43m_sanitize_column\u001b[49m\u001b[43m(\u001b[49m\u001b[43mvalue\u001b[49m\u001b[43m)\u001b[49m\n\u001b[0;32m   4145\u001b[0m     \u001b[38;5;28;01mif\u001b[39;00m (\n\u001b[0;32m   4146\u001b[0m         key \u001b[38;5;129;01min\u001b[39;00m \u001b[38;5;28mself\u001b[39m\u001b[38;5;241m.\u001b[39mcolumns\n\u001b[0;32m   4147\u001b[0m         \u001b[38;5;129;01mand\u001b[39;00m value\u001b[38;5;241m.\u001b[39mndim \u001b[38;5;241m==\u001b[39m \u001b[38;5;241m1\u001b[39m\n\u001b[0;32m   4148\u001b[0m         \u001b[38;5;129;01mand\u001b[39;00m \u001b[38;5;129;01mnot\u001b[39;00m is_extension_array_dtype(value)\n\u001b[0;32m   4149\u001b[0m     ):\n\u001b[0;32m   4150\u001b[0m         \u001b[38;5;66;03m# broadcast across multiple columns if necessary\u001b[39;00m\n\u001b[0;32m   4151\u001b[0m         \u001b[38;5;28;01mif\u001b[39;00m \u001b[38;5;129;01mnot\u001b[39;00m \u001b[38;5;28mself\u001b[39m\u001b[38;5;241m.\u001b[39mcolumns\u001b[38;5;241m.\u001b[39mis_unique \u001b[38;5;129;01mor\u001b[39;00m \u001b[38;5;28misinstance\u001b[39m(\u001b[38;5;28mself\u001b[39m\u001b[38;5;241m.\u001b[39mcolumns, MultiIndex):\n",
      "File \u001b[1;32mc:\\Users\\seanh\\miniconda3\\envs\\asid\\lib\\site-packages\\pandas\\core\\frame.py:4870\u001b[0m, in \u001b[0;36mDataFrame._sanitize_column\u001b[1;34m(self, value)\u001b[0m\n\u001b[0;32m   4867\u001b[0m     \u001b[38;5;28;01mreturn\u001b[39;00m _reindex_for_setitem(Series(value), \u001b[38;5;28mself\u001b[39m\u001b[38;5;241m.\u001b[39mindex)\n\u001b[0;32m   4869\u001b[0m \u001b[38;5;28;01mif\u001b[39;00m is_list_like(value):\n\u001b[1;32m-> 4870\u001b[0m     \u001b[43mcom\u001b[49m\u001b[38;5;241;43m.\u001b[39;49m\u001b[43mrequire_length_match\u001b[49m\u001b[43m(\u001b[49m\u001b[43mvalue\u001b[49m\u001b[43m,\u001b[49m\u001b[43m \u001b[49m\u001b[38;5;28;43mself\u001b[39;49m\u001b[38;5;241;43m.\u001b[39;49m\u001b[43mindex\u001b[49m\u001b[43m)\u001b[49m\n\u001b[0;32m   4871\u001b[0m \u001b[38;5;28;01mreturn\u001b[39;00m sanitize_array(value, \u001b[38;5;28mself\u001b[39m\u001b[38;5;241m.\u001b[39mindex, copy\u001b[38;5;241m=\u001b[39m\u001b[38;5;28;01mTrue\u001b[39;00m, allow_2d\u001b[38;5;241m=\u001b[39m\u001b[38;5;28;01mTrue\u001b[39;00m)\n",
      "File \u001b[1;32mc:\\Users\\seanh\\miniconda3\\envs\\asid\\lib\\site-packages\\pandas\\core\\common.py:576\u001b[0m, in \u001b[0;36mrequire_length_match\u001b[1;34m(data, index)\u001b[0m\n\u001b[0;32m    572\u001b[0m \u001b[38;5;250m\u001b[39m\u001b[38;5;124;03m\"\"\"\u001b[39;00m\n\u001b[0;32m    573\u001b[0m \u001b[38;5;124;03mCheck the length of data matches the length of the index.\u001b[39;00m\n\u001b[0;32m    574\u001b[0m \u001b[38;5;124;03m\"\"\"\u001b[39;00m\n\u001b[0;32m    575\u001b[0m \u001b[38;5;28;01mif\u001b[39;00m \u001b[38;5;28mlen\u001b[39m(data) \u001b[38;5;241m!=\u001b[39m \u001b[38;5;28mlen\u001b[39m(index):\n\u001b[1;32m--> 576\u001b[0m     \u001b[38;5;28;01mraise\u001b[39;00m \u001b[38;5;167;01mValueError\u001b[39;00m(\n\u001b[0;32m    577\u001b[0m         \u001b[38;5;124m\"\u001b[39m\u001b[38;5;124mLength of values \u001b[39m\u001b[38;5;124m\"\u001b[39m\n\u001b[0;32m    578\u001b[0m         \u001b[38;5;124mf\u001b[39m\u001b[38;5;124m\"\u001b[39m\u001b[38;5;124m(\u001b[39m\u001b[38;5;132;01m{\u001b[39;00m\u001b[38;5;28mlen\u001b[39m(data)\u001b[38;5;132;01m}\u001b[39;00m\u001b[38;5;124m) \u001b[39m\u001b[38;5;124m\"\u001b[39m\n\u001b[0;32m    579\u001b[0m         \u001b[38;5;124m\"\u001b[39m\u001b[38;5;124mdoes not match length of index \u001b[39m\u001b[38;5;124m\"\u001b[39m\n\u001b[0;32m    580\u001b[0m         \u001b[38;5;124mf\u001b[39m\u001b[38;5;124m\"\u001b[39m\u001b[38;5;124m(\u001b[39m\u001b[38;5;132;01m{\u001b[39;00m\u001b[38;5;28mlen\u001b[39m(index)\u001b[38;5;132;01m}\u001b[39;00m\u001b[38;5;124m)\u001b[39m\u001b[38;5;124m\"\u001b[39m\n\u001b[0;32m    581\u001b[0m     )\n",
      "\u001b[1;31mValueError\u001b[0m: Length of values (6) does not match length of index (250)"
     ]
    }
   ],
   "source": [
    "df[\"x\"] = np.random.uniform(0, 1, frist_frame_n)\n",
    "df[\"y\"] = np.random.uniform(0, 1, frist_frame_n)\n",
    "df[\"frame\"] = 0\n",
    "df[[\"x\", \"y\"]].plot(kind=\"scatter\", x=\"x\", y=\"y\")"
   ]
  },
  {
   "cell_type": "code",
   "execution_count": null,
   "metadata": {},
   "outputs": [],
   "source": [
    "df[\"size\"] = np.random.uniform(0.5, 1.25, frist_frame_n)\n"
   ]
  },
  {
   "cell_type": "code",
   "execution_count": null,
   "metadata": {},
   "outputs": [
    {
     "data": {
      "text/plain": [
       "0        blue\n",
       "1        blue\n",
       "2        blue\n",
       "3      orange\n",
       "4      orange\n",
       "        ...  \n",
       "245    orange\n",
       "246    orange\n",
       "247    orange\n",
       "248    orange\n",
       "249    orange\n",
       "Name: label, Length: 250, dtype: object"
      ]
     },
     "execution_count": 84,
     "metadata": {},
     "output_type": "execute_result"
    }
   ],
   "source": []
  },
  {
   "cell_type": "code",
   "execution_count": null,
   "metadata": {},
   "outputs": [],
   "source": [
    "frist_frame_n = 5"
   ]
  },
  {
   "cell_type": "code",
   "execution_count": null,
   "metadata": {},
   "outputs": [],
   "source": []
  },
  {
   "cell_type": "code",
   "execution_count": 25,
   "metadata": {},
   "outputs": [],
   "source": [
    "frist_frame_n = 80\n",
    "dfs = []\n",
    "X = np.random.normal(0.7, 0.1, frist_frame_n)\n",
    "Y = np.random.normal(0.5, 0.1, frist_frame_n)\n",
    "size = np.random.uniform(0.5, 1.25, frist_frame_n)\n",
    "df = pd.DataFrame(np.zeros((frist_frame_n, len(columns))), columns=columns)\n",
    "df[\"x\"] = X\n",
    "df[\"y\"] = Y\n",
    "df[\"frame\"] = 1\n",
    "df[\"size\"] = size\n",
    "df[\"label\"] = np.random.binomial(1, 0.4, frist_frame_n)\n",
    "df[\"label\"] = \"blue\"\n",
    "dfs.append(df)\n",
    "\n",
    "frist_frame_n = 20\n",
    "X = np.random.normal(0.3, 0.1, frist_frame_n)\n",
    "Y = np.random.normal(0.5, 0.1, frist_frame_n)\n",
    "size = np.random.uniform(0.5, 1.25, frist_frame_n)\n",
    "df2 = pd.DataFrame(np.zeros((frist_frame_n, len(columns))), columns=columns)\n",
    "df2[\"x\"] = X\n",
    "df2[\"y\"] = Y\n",
    "df2[\"frame\"] = 1\n",
    "df2[\"size\"] = size\n",
    "df2[\"label\"] = np.random.binomial(1, 0.4, frist_frame_n)\n",
    "df2[\"label\"] = \"orange\"\n",
    "dfs.append(df2)\n",
    "\n",
    "pd.concat(dfs).to_csv(\"spam_probablity.csv\")"
   ]
  },
  {
   "cell_type": "code",
   "execution_count": 26,
   "metadata": {},
   "outputs": [
    {
     "data": {
      "text/plain": [
       "<Axes: xlabel='x', ylabel='y'>"
      ]
     },
     "execution_count": 26,
     "metadata": {},
     "output_type": "execute_result"
    },
    {
     "data": {
      "image/png": "[encoded data removed]",
      "text/plain": [
       "<Figure size 640x480 with 1 Axes>"
      ]
     },
     "metadata": {},
     "output_type": "display_data"
    }
   ],
   "source": [
    "pd.concat(dfs)[[\"x\", \"y\", \"label\"]].plot(kind=\"scatter\", x=\"x\", y=\"y\", c=\"label\")"
   ]
  },
  {
   "cell_type": "code",
   "execution_count": null,
   "metadata": {},
   "outputs": [],
   "source": []
  },
  {
   "cell_type": "code",
   "execution_count": null,
   "metadata": {},
   "outputs": [],
   "source": []
  },
  {
   "cell_type": "code",
   "execution_count": null,
   "metadata": {},
   "outputs": [],
   "source": []
  },
  {
   "cell_type": "code",
   "execution_count": null,
   "metadata": {},
   "outputs": [],
   "source": [
    "pd.concat([df, df1]).to_csv(\"intro_vis.csv\")"
   ]
  },
  {
   "cell_type": "code",
   "execution_count": null,
   "metadata": {},
   "outputs": [],
   "source": []
  },
  {
   "cell_type": "code",
   "execution_count": null,
   "metadata": {},
   "outputs": [],
   "source": []
  }
 ],
 "metadata": {
  "kernelspec": {
   "display_name": "asid",
   "language": "python",
   "name": "python3"
  },
  "language_info": {
   "codemirror_mode": {
    "name": "ipython",
    "version": 3
   },
   "file_extension": ".py",
   "mimetype": "text/x-python",
   "name": "python",
   "nbconvert_exporter": "python",
   "pygments_lexer": "ipython3",
   "version": "3.8.18"
  }
 },
 "nbformat": 4,
 "nbformat_minor": 2
}
